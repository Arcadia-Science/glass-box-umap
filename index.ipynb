{
 "cells": [
  {
   "cell_type": "raw",
   "id": "170215c2",
   "metadata": {
    "vscode": {
     "languageId": "raw"
    }
   },
   "source": [
    "---\n",
    "title: \"{{< var pub.title >}} --\"\n",
    "date: 'January 1, 2025'\n",
    "abstract-title: \"Summary\"\n",
    "---"
   ]
  },
  {
   "cell_type": "markdown",
   "id": "42a2ab58-9efe-4758-a50d-8f9e011fe2cd",
   "metadata": {},
   "source": [
    "## Abstract\n",
    "\n",
    "Despite the header being `## Abstract`, this section will render as a highlighted section titled *Summary*.\n",
    "\n",
    "----\n",
    "\n",
    ":::{.callout-note title=\"AI usage disclosure\" collapse=\"true\"}\n",
    "This is a placeholder for the AI usage disclosure. Once all authors sign the AI code form on AirTable, SlackBot will message you an AI disclosure that you should place here.\n",
    ":::\n",
    "\n",
    "## Introduction\n",
    "\n",
    "Once edited by you, this file will become your publication. Alternatively, if you already have a notebook written that you're trying to transform into a pub, replace this file with your own, but be sure to add the YAML front matter (the first cell) to your notebook.\n",
    "\n",
    "## Learn more\n",
    "\n",
    "Refer to [Demo](/examples/demo.html) to learn about possible syntax."
   ]
  },
  {
   "cell_type": "code",
   "execution_count": null,
   "id": "5d0510f2",
   "metadata": {},
   "outputs": [],
   "source": [
    "from analysis.preprocess import *\n",
    "\n",
    "adata = preprocess_bone_marrow()"
   ]
  },
  {
   "cell_type": "code",
   "execution_count": null,
   "id": "1f890e87",
   "metadata": {},
   "outputs": [],
   "source": [
    "# --- Configuration ---\n",
    "config = {\n",
    "    \"seed\": 24,\n",
    "    \"pca_components\": 50,\n",
    "    \"network_class\": \"deepBilinearNet\", #\"deepReLUNet\", # \"deepSiLUNet\"\n",
    "    \"train_params\": {\n",
    "        \"lr\": 8e-4,\n",
    "        \"epochs\": 96,\n",
    "        \"batch_size\": 1024,\n",
    "        \"pumap_kwargs\": {\"non_parametric_embeddings\": True}\n",
    "    },\n",
    "    \"jacobian_batch_size\": 40,\n",
    "    \"plot_params\": {\n",
    "        \"n_features\": 16,\n",
    "        \"stat\": \"mean\"\n",
    "    },\n",
    "    \"output_filename\": \"bone_marrow_features.csv\"\n",
    "}"
   ]
  },
  {
   "cell_type": "code",
   "execution_count": null,
   "id": "9c516771",
   "metadata": {},
   "outputs": [],
   "source": [
    "# Select cell types to analyze\n",
    "config[\"plot_params\"][\"celltypes\"] = adata.obs[\"cell_type\"].value_counts().index[:5].tolist()\n",
    "\n",
    "# Step 1: Prepare data\n",
    "train_dataset, adata_mean_zero = prepare_data(adata, config[\"pca_components\"])\n",
    "\n",
    "# Step 2: Define and train model\n",
    "# Note: `network` must be an instantiated model class\n",
    "from analysis.utils import PUMAP, Datamodule, Model\n",
    "from analysis.networks import deepReLUNet, deepSiLUNet, deepBilinearNet\n",
    "\n",
    "network = deepBilinearNet() # Replace with your model instantiation\n",
    "encoder = train_parametric_umap(network, train_dataset, config[\"train_params\"])\n",
    "\n",
    "# Step 3: Generate and plot embedding\n",
    "embedding = generate_and_plot_embedding(encoder, adata, train_dataset)\n",
    "\n",
    "# Step 4: Compute Jacobian in gene space\n",
    "jacobxall = compute_gene_space_jacobian(encoder.encoder, adata, train_dataset, adata_mean_zero, config[\"jacobian_batch_size\"])\n",
    "\n",
    "# Step 5: Plot feature importances\n",
    "class_genesorted = plot_feature_importance(adata, embedding, jacobxall, **config[\"plot_params\"])\n",
    "\n",
    "# Step 6: Export results\n",
    "export_results(class_genesorted, config[\"output_filename\"])"
   ]
  }
 ],
 "metadata": {
  "jupytext": {
   "formats": "ipynb,py:percent"
  },
  "kernelspec": {
   "display_name": "notebook-pub-template",
   "language": "python",
   "name": "python3"
  },
  "language_info": {
   "codemirror_mode": {
    "name": "ipython",
    "version": 3
   },
   "file_extension": ".py",
   "mimetype": "text/x-python",
   "name": "python",
   "nbconvert_exporter": "python",
   "pygments_lexer": "ipython3",
   "version": "3.12.9"
  }
 },
 "nbformat": 4,
 "nbformat_minor": 5
}
